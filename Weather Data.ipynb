{
 "cells": [
  {
   "cell_type": "markdown",
   "metadata": {},
   "source": [
    "# Weather Data"
   ]
  },
  {
   "cell_type": "markdown",
   "metadata": {},
   "source": [
    "## 1. Import Libraries"
   ]
  },
  {
   "cell_type": "code",
   "execution_count": 125,
   "metadata": {
    "collapsed": true
   },
   "outputs": [],
   "source": [
    "import pandas as pd\n",
    "import numpy as np\n",
    "import re\n",
    "\n",
    "import matplotlib.pyplot as plt\n",
    "import matplotlib\n",
    "import seaborn as sns\n",
    "\n",
    "%matplotlib inline\n",
    "sns.set_style('ticks')"
   ]
  },
  {
   "cell_type": "markdown",
   "metadata": {},
   "source": [
    "## 2.  Import Weather Data & Create Table"
   ]
  },
  {
   "cell_type": "code",
   "execution_count": 126,
   "metadata": {},
   "outputs": [],
   "source": [
    "df_weather = pd.read_csv('./data/weather_data.csv')"
   ]
  },
  {
   "cell_type": "code",
   "execution_count": 127,
   "metadata": {},
   "outputs": [
    {
     "data": {
      "text/plain": [
       "(56454, 90)"
      ]
     },
     "execution_count": 127,
     "metadata": {},
     "output_type": "execute_result"
    }
   ],
   "source": [
    "df_weather.shape"
   ]
  },
  {
   "cell_type": "code",
   "execution_count": 128,
   "metadata": {
    "scrolled": true
   },
   "outputs": [
    {
     "data": {
      "text/plain": [
       "Index([u'STATION', u'STATION_NAME', u'ELEVATION', u'LATITUDE', u'LONGITUDE',\n",
       "       u'DATE', u'REPORTTPYE', u'HOURLYSKYCONDITIONS', u'HOURLYVISIBILITY',\n",
       "       u'HOURLYPRSENTWEATHERTYPE', u'HOURLYDRYBULBTEMPF',\n",
       "       u'HOURLYDRYBULBTEMPC', u'HOURLYWETBULBTEMPF', u'HOURLYWETBULBTEMPC',\n",
       "       u'HOURLYDewPointTempF', u'HOURLYDewPointTempC',\n",
       "       u'HOURLYRelativeHumidity', u'HOURLYWindSpeed', u'HOURLYWindDirection',\n",
       "       u'HOURLYWindGustSpeed', u'HOURLYStationPressure',\n",
       "       u'HOURLYPressureTendency', u'HOURLYPressureChange',\n",
       "       u'HOURLYSeaLevelPressure', u'HOURLYPrecip', u'HOURLYAltimeterSetting',\n",
       "       u'DAILYMaximumDryBulbTemp', u'DAILYMinimumDryBulbTemp',\n",
       "       u'DAILYAverageDryBulbTemp', u'DAILYDeptFromNormalAverageTemp',\n",
       "       u'DAILYAverageRelativeHumidity', u'DAILYAverageDewPointTemp',\n",
       "       u'DAILYAverageWetBulbTemp', u'DAILYHeatingDegreeDays',\n",
       "       u'DAILYCoolingDegreeDays', u'DAILYSunrise', u'DAILYSunset',\n",
       "       u'DAILYWeather', u'DAILYPrecip', u'DAILYSnowfall', u'DAILYSnowDepth',\n",
       "       u'DAILYAverageStationPressure', u'DAILYAverageSeaLevelPressure',\n",
       "       u'DAILYAverageWindSpeed', u'DAILYPeakWindSpeed', u'PeakWindDirection',\n",
       "       u'DAILYSustainedWindSpeed', u'DAILYSustainedWindDirection',\n",
       "       u'MonthlyMaximumTemp', u'MonthlyMinimumTemp', u'MonthlyMeanTemp',\n",
       "       u'MonthlyAverageRH', u'MonthlyDewpointTemp', u'MonthlyWetBulbTemp',\n",
       "       u'MonthlyAvgHeatingDegreeDays', u'MonthlyAvgCoolingDegreeDays',\n",
       "       u'MonthlyStationPressure', u'MonthlySeaLevelPressure',\n",
       "       u'MonthlyAverageWindSpeed', u'MonthlyTotalSnowfall',\n",
       "       u'MonthlyDeptFromNormalMaximumTemp',\n",
       "       u'MonthlyDeptFromNormalMinimumTemp',\n",
       "       u'MonthlyDeptFromNormalAverageTemp', u'MonthlyDeptFromNormalPrecip',\n",
       "       u'MonthlyTotalLiquidPrecip', u'MonthlyGreatestPrecip',\n",
       "       u'MonthlyGreatestPrecipDate', u'MonthlyGreatestSnowfall',\n",
       "       u'MonthlyGreatestSnowfallDate', u'MonthlyGreatestSnowDepth',\n",
       "       u'MonthlyGreatestSnowDepthDate', u'MonthlyDaysWithGT90Temp',\n",
       "       u'MonthlyDaysWithLT32Temp', u'MonthlyDaysWithGT32Temp',\n",
       "       u'MonthlyDaysWithLT0Temp', u'MonthlyDaysWithGT001Precip',\n",
       "       u'MonthlyDaysWithGT010Precip', u'MonthlyDaysWithGT1Snow',\n",
       "       u'MonthlyMaxSeaLevelPressureValue', u'MonthlyMaxSeaLevelPressureDate',\n",
       "       u'MonthlyMaxSeaLevelPressureTime', u'MonthlyMinSeaLevelPressureValue',\n",
       "       u'MonthlyMinSeaLevelPressureDate', u'MonthlyMinSeaLevelPressureTime',\n",
       "       u'MonthlyTotalHeatingDegreeDays', u'MonthlyTotalCoolingDegreeDays',\n",
       "       u'MonthlyDeptFromNormalHeatingDD', u'MonthlyDeptFromNormalCoolingDD',\n",
       "       u'MonthlyTotalSeasonToDateHeatingDD',\n",
       "       u'MonthlyTotalSeasonToDateCoolingDD'],\n",
       "      dtype='object')"
      ]
     },
     "execution_count": 128,
     "metadata": {},
     "output_type": "execute_result"
    }
   ],
   "source": [
    "df_weather.columns"
   ]
  },
  {
   "cell_type": "markdown",
   "metadata": {},
   "source": [
    "##### Create a function to remove characters from Precipitation Column"
   ]
  },
  {
   "cell_type": "code",
   "execution_count": 129,
   "metadata": {},
   "outputs": [],
   "source": [
    "def remove_char(l):\n",
    "    new_l = []\n",
    "    for x in l:\n",
    "        x = ''.join(re.findall('\\d|[.]', str(x)))\n",
    "        new_l.append(float(x))\n",
    "    return new_l"
   ]
  },
  {
   "cell_type": "code",
   "execution_count": 130,
   "metadata": {},
   "outputs": [],
   "source": [
    "df_weather.loc[df_weather['HOURLYPrecip'] == 'T', 'HOURLYPrecip'] = 0.05\n",
    "df_weather.loc[df_weather['HOURLYPrecip'].isnull(), 'HOURLYPrecip'] = 0\n",
    "df_weather['HOURLYPrecip'] = remove_char(df_weather['HOURLYPrecip'].values)"
   ]
  },
  {
   "cell_type": "code",
   "execution_count": 131,
   "metadata": {},
   "outputs": [],
   "source": [
    "df_weather['DATETIME'] = pd.to_datetime(df_weather['DATE'], format='%Y-%m-%d %H:%M')"
   ]
  },
  {
   "cell_type": "code",
   "execution_count": 132,
   "metadata": {},
   "outputs": [
    {
     "data": {
      "text/plain": [
       "7930"
      ]
     },
     "execution_count": 132,
     "metadata": {},
     "output_type": "execute_result"
    }
   ],
   "source": [
    "len(df_weather.loc[df_weather['HOURLYPrecip'] > 0, ['STATION', 'STATION_NAME', 'LATITUDE', 'LONGITUDE', 'DATETIME', 'HOURLYPrecip']])"
   ]
  },
  {
   "cell_type": "markdown",
   "metadata": {},
   "source": [
    "##### Create a new dataframe with only the columns needed"
   ]
  },
  {
   "cell_type": "code",
   "execution_count": 133,
   "metadata": {},
   "outputs": [],
   "source": [
    "df = df_weather.loc[:, ['STATION', 'STATION_NAME', 'LATITUDE', 'LONGITUDE', 'DATETIME', 'HOURLYPrecip']]"
   ]
  },
  {
   "cell_type": "code",
   "execution_count": 134,
   "metadata": {},
   "outputs": [
    {
     "data": {
      "text/html": [
       "<div>\n",
       "<style>\n",
       "    .dataframe thead tr:only-child th {\n",
       "        text-align: right;\n",
       "    }\n",
       "\n",
       "    .dataframe thead th {\n",
       "        text-align: left;\n",
       "    }\n",
       "\n",
       "    .dataframe tbody tr th {\n",
       "        vertical-align: top;\n",
       "    }\n",
       "</style>\n",
       "<table border=\"1\" class=\"dataframe\">\n",
       "  <thead>\n",
       "    <tr style=\"text-align: right;\">\n",
       "      <th></th>\n",
       "      <th>STATION</th>\n",
       "      <th>STATION_NAME</th>\n",
       "      <th>LATITUDE</th>\n",
       "      <th>LONGITUDE</th>\n",
       "      <th>DATETIME</th>\n",
       "      <th>HOURLYPrecip</th>\n",
       "    </tr>\n",
       "  </thead>\n",
       "  <tbody>\n",
       "    <tr>\n",
       "      <th>27449</th>\n",
       "      <td>WBAN:94728</td>\n",
       "      <td>NY CITY CENTRAL PARK NY US</td>\n",
       "      <td>40.7889</td>\n",
       "      <td>-73.9669</td>\n",
       "      <td>2016-06-11 22:51:00</td>\n",
       "      <td>0.00</td>\n",
       "    </tr>\n",
       "    <tr>\n",
       "      <th>48929</th>\n",
       "      <td>WBAN:94789</td>\n",
       "      <td>JFK INTERNATIONAL AIRPORT NY US</td>\n",
       "      <td>40.6386</td>\n",
       "      <td>-73.7622</td>\n",
       "      <td>2016-09-18 23:51:00</td>\n",
       "      <td>0.00</td>\n",
       "    </tr>\n",
       "    <tr>\n",
       "      <th>27987</th>\n",
       "      <td>WBAN:94728</td>\n",
       "      <td>NY CITY CENTRAL PARK NY US</td>\n",
       "      <td>40.7889</td>\n",
       "      <td>-73.9669</td>\n",
       "      <td>2016-07-01 03:51:00</td>\n",
       "      <td>0.00</td>\n",
       "    </tr>\n",
       "    <tr>\n",
       "      <th>46095</th>\n",
       "      <td>WBAN:94789</td>\n",
       "      <td>JFK INTERNATIONAL AIRPORT NY US</td>\n",
       "      <td>40.6386</td>\n",
       "      <td>-73.7622</td>\n",
       "      <td>2016-06-30 04:51:00</td>\n",
       "      <td>0.00</td>\n",
       "    </tr>\n",
       "    <tr>\n",
       "      <th>38469</th>\n",
       "      <td>WBAN:94789</td>\n",
       "      <td>JFK INTERNATIONAL AIRPORT NY US</td>\n",
       "      <td>40.6386</td>\n",
       "      <td>-73.7622</td>\n",
       "      <td>2015-12-02 19:51:00</td>\n",
       "      <td>0.01</td>\n",
       "    </tr>\n",
       "  </tbody>\n",
       "</table>\n",
       "</div>"
      ],
      "text/plain": [
       "          STATION                     STATION_NAME  LATITUDE  LONGITUDE  \\\n",
       "27449  WBAN:94728       NY CITY CENTRAL PARK NY US   40.7889   -73.9669   \n",
       "48929  WBAN:94789  JFK INTERNATIONAL AIRPORT NY US   40.6386   -73.7622   \n",
       "27987  WBAN:94728       NY CITY CENTRAL PARK NY US   40.7889   -73.9669   \n",
       "46095  WBAN:94789  JFK INTERNATIONAL AIRPORT NY US   40.6386   -73.7622   \n",
       "38469  WBAN:94789  JFK INTERNATIONAL AIRPORT NY US   40.6386   -73.7622   \n",
       "\n",
       "                 DATETIME  HOURLYPrecip  \n",
       "27449 2016-06-11 22:51:00          0.00  \n",
       "48929 2016-09-18 23:51:00          0.00  \n",
       "27987 2016-07-01 03:51:00          0.00  \n",
       "46095 2016-06-30 04:51:00          0.00  \n",
       "38469 2015-12-02 19:51:00          0.01  "
      ]
     },
     "execution_count": 134,
     "metadata": {},
     "output_type": "execute_result"
    }
   ],
   "source": [
    "df.sample(5)"
   ]
  },
  {
   "cell_type": "code",
   "execution_count": 135,
   "metadata": {},
   "outputs": [],
   "source": [
    "df_2017 = df.loc[df['DATETIME'] > pd.to_datetime('2017-01-01')]"
   ]
  },
  {
   "cell_type": "code",
   "execution_count": 136,
   "metadata": {},
   "outputs": [
    {
     "data": {
      "text/html": [
       "<div>\n",
       "<style>\n",
       "    .dataframe thead tr:only-child th {\n",
       "        text-align: right;\n",
       "    }\n",
       "\n",
       "    .dataframe thead th {\n",
       "        text-align: left;\n",
       "    }\n",
       "\n",
       "    .dataframe tbody tr th {\n",
       "        vertical-align: top;\n",
       "    }\n",
       "</style>\n",
       "<table border=\"1\" class=\"dataframe\">\n",
       "  <thead>\n",
       "    <tr style=\"text-align: right;\">\n",
       "      <th></th>\n",
       "      <th>STATION</th>\n",
       "      <th>STATION_NAME</th>\n",
       "      <th>LATITUDE</th>\n",
       "      <th>LONGITUDE</th>\n",
       "      <th>DATETIME</th>\n",
       "      <th>HOURLYPrecip</th>\n",
       "    </tr>\n",
       "  </thead>\n",
       "  <tbody>\n",
       "    <tr>\n",
       "      <th>19768</th>\n",
       "      <td>WBAN:14732</td>\n",
       "      <td>LA GUARDIA AIRPORT NY US</td>\n",
       "      <td>40.7792</td>\n",
       "      <td>-73.8800</td>\n",
       "      <td>2017-04-03 08:51:00</td>\n",
       "      <td>0.0</td>\n",
       "    </tr>\n",
       "    <tr>\n",
       "      <th>18472</th>\n",
       "      <td>WBAN:14732</td>\n",
       "      <td>LA GUARDIA AIRPORT NY US</td>\n",
       "      <td>40.7792</td>\n",
       "      <td>-73.8800</td>\n",
       "      <td>2017-03-01 01:51:00</td>\n",
       "      <td>0.0</td>\n",
       "    </tr>\n",
       "    <tr>\n",
       "      <th>53887</th>\n",
       "      <td>WBAN:94789</td>\n",
       "      <td>JFK INTERNATIONAL AIRPORT NY US</td>\n",
       "      <td>40.6386</td>\n",
       "      <td>-73.7622</td>\n",
       "      <td>2017-02-02 19:00:00</td>\n",
       "      <td>0.0</td>\n",
       "    </tr>\n",
       "    <tr>\n",
       "      <th>54195</th>\n",
       "      <td>WBAN:94789</td>\n",
       "      <td>JFK INTERNATIONAL AIRPORT NY US</td>\n",
       "      <td>40.6386</td>\n",
       "      <td>-73.7622</td>\n",
       "      <td>2017-02-11 08:51:00</td>\n",
       "      <td>0.0</td>\n",
       "    </tr>\n",
       "    <tr>\n",
       "      <th>35998</th>\n",
       "      <td>WBAN:94728</td>\n",
       "      <td>NY CITY CENTRAL PARK NY US</td>\n",
       "      <td>40.7889</td>\n",
       "      <td>-73.9669</td>\n",
       "      <td>2017-03-19 09:51:00</td>\n",
       "      <td>0.0</td>\n",
       "    </tr>\n",
       "    <tr>\n",
       "      <th>17529</th>\n",
       "      <td>WBAN:14732</td>\n",
       "      <td>LA GUARDIA AIRPORT NY US</td>\n",
       "      <td>40.7792</td>\n",
       "      <td>-73.8800</td>\n",
       "      <td>2017-02-04 08:51:00</td>\n",
       "      <td>0.0</td>\n",
       "    </tr>\n",
       "    <tr>\n",
       "      <th>53365</th>\n",
       "      <td>WBAN:94789</td>\n",
       "      <td>JFK INTERNATIONAL AIRPORT NY US</td>\n",
       "      <td>40.6386</td>\n",
       "      <td>-73.7622</td>\n",
       "      <td>2017-01-20 00:51:00</td>\n",
       "      <td>0.0</td>\n",
       "    </tr>\n",
       "    <tr>\n",
       "      <th>53085</th>\n",
       "      <td>WBAN:94789</td>\n",
       "      <td>JFK INTERNATIONAL AIRPORT NY US</td>\n",
       "      <td>40.6386</td>\n",
       "      <td>-73.7622</td>\n",
       "      <td>2017-01-12 14:51:00</td>\n",
       "      <td>0.0</td>\n",
       "    </tr>\n",
       "    <tr>\n",
       "      <th>36832</th>\n",
       "      <td>WBAN:94728</td>\n",
       "      <td>NY CITY CENTRAL PARK NY US</td>\n",
       "      <td>40.7889</td>\n",
       "      <td>-73.9669</td>\n",
       "      <td>2017-04-13 21:51:00</td>\n",
       "      <td>0.0</td>\n",
       "    </tr>\n",
       "    <tr>\n",
       "      <th>36544</th>\n",
       "      <td>WBAN:94728</td>\n",
       "      <td>NY CITY CENTRAL PARK NY US</td>\n",
       "      <td>40.7889</td>\n",
       "      <td>-73.9669</td>\n",
       "      <td>2017-04-04 11:51:00</td>\n",
       "      <td>0.0</td>\n",
       "    </tr>\n",
       "  </tbody>\n",
       "</table>\n",
       "</div>"
      ],
      "text/plain": [
       "          STATION                     STATION_NAME  LATITUDE  LONGITUDE  \\\n",
       "19768  WBAN:14732         LA GUARDIA AIRPORT NY US   40.7792   -73.8800   \n",
       "18472  WBAN:14732         LA GUARDIA AIRPORT NY US   40.7792   -73.8800   \n",
       "53887  WBAN:94789  JFK INTERNATIONAL AIRPORT NY US   40.6386   -73.7622   \n",
       "54195  WBAN:94789  JFK INTERNATIONAL AIRPORT NY US   40.6386   -73.7622   \n",
       "35998  WBAN:94728       NY CITY CENTRAL PARK NY US   40.7889   -73.9669   \n",
       "17529  WBAN:14732         LA GUARDIA AIRPORT NY US   40.7792   -73.8800   \n",
       "53365  WBAN:94789  JFK INTERNATIONAL AIRPORT NY US   40.6386   -73.7622   \n",
       "53085  WBAN:94789  JFK INTERNATIONAL AIRPORT NY US   40.6386   -73.7622   \n",
       "36832  WBAN:94728       NY CITY CENTRAL PARK NY US   40.7889   -73.9669   \n",
       "36544  WBAN:94728       NY CITY CENTRAL PARK NY US   40.7889   -73.9669   \n",
       "\n",
       "                 DATETIME  HOURLYPrecip  \n",
       "19768 2017-04-03 08:51:00           0.0  \n",
       "18472 2017-03-01 01:51:00           0.0  \n",
       "53887 2017-02-02 19:00:00           0.0  \n",
       "54195 2017-02-11 08:51:00           0.0  \n",
       "35998 2017-03-19 09:51:00           0.0  \n",
       "17529 2017-02-04 08:51:00           0.0  \n",
       "53365 2017-01-20 00:51:00           0.0  \n",
       "53085 2017-01-12 14:51:00           0.0  \n",
       "36832 2017-04-13 21:51:00           0.0  \n",
       "36544 2017-04-04 11:51:00           0.0  "
      ]
     },
     "execution_count": 136,
     "metadata": {},
     "output_type": "execute_result"
    }
   ],
   "source": [
    "df_2017.sample(10)"
   ]
  },
  {
   "cell_type": "code",
   "execution_count": 137,
   "metadata": {
    "collapsed": true
   },
   "outputs": [],
   "source": [
    "df_2017.to_csv('./clean_data/weather_2017.csv')"
   ]
  }
 ],
 "metadata": {
  "kernelspec": {
   "display_name": "Python 2",
   "language": "python",
   "name": "python2"
  },
  "language_info": {
   "codemirror_mode": {
    "name": "ipython",
    "version": 2
   },
   "file_extension": ".py",
   "mimetype": "text/x-python",
   "name": "python",
   "nbconvert_exporter": "python",
   "pygments_lexer": "ipython2",
   "version": "2.7.13"
  }
 },
 "nbformat": 4,
 "nbformat_minor": 2
}
