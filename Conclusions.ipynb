{
 "cells": [
  {
   "cell_type": "markdown",
   "metadata": {},
   "source": [
    "# What is the Impact of Precipitation on NYC MTA Subway Ridership?"
   ]
  },
  {
   "cell_type": "markdown",
   "metadata": {},
   "source": [
    "The associated github repository, including all *iPython* Notebooks created to clean and organize the data, can be found [here](https://github.com/rezaisrad/nyc_mta).\n",
    "\n",
    "### Steps:\n",
    "1. Find average turnstile use per subway station over time (Notebook [here](https://github.com/rezaisrad/nyc_mta/blob/master/Turnstile%20Data.ipynb))\n",
    "2. Find matching precipitation data (Notebook [here](https://github.com/rezaisrad/nyc_mta/blob/master/Weather%20Data.ipynb))\n",
    "3. Find station longitude and latitude (Notebook [here](https://github.com/rezaisrad/nyc_mta/blob/master/Station%20Location.ipynb))\n",
    "4. Merge Data into one table\n",
    "(Notebook [here](https://github.com/rezaisrad/nyc_mta/blob/master/Merging%20Tables.ipynb))\n",
    "5. Look for any relationship between ridership and precipitation (Notebook [here](https://github.com/rezaisrad/nyc_mta/blob/master/Data%20Analysis%20-%20Linear%20Regression.ipynb)) \n",
    "6. Draw conclusions (Notebook [here](https://github.com/rezaisrad/nyc_mta/blob/master/Conclusions.ipynb)) \n",
    "\n",
    "**Null Hypothesis:** Precipitation has a statistically signficant impact on MTA subway ridership.\n",
    "\n",
    "**Alternate Hypothesis:** Precipitation does not have a statistically signficant impact on MTA subway ridership."
   ]
  },
  {
   "cell_type": "markdown",
   "metadata": {},
   "source": [
    "Average Entries & Exits:\n",
    "```\n",
    "With Precipitation:\n",
    "      ENTRIES  EXITS\n",
    "mean  188.7    141.6\n",
    "std   215.7    174.3\n",
    "\n",
    "Without Precipitation:\n",
    "      ENTRIES   EXITS\n",
    "mean  180.8     136.7\n",
    "std   223.0     179.5\n",
    "```"
   ]
  },
  {
   "cell_type": "markdown",
   "metadata": {},
   "source": [
    "## Testing the Hypothesis"
   ]
  },
  {
   "cell_type": "code",
   "execution_count": 137,
   "metadata": {
    "collapsed": true
   },
   "outputs": [],
   "source": [
    "import pandas as pd\n",
    "import numpy as np\n",
    "import matplotlib.pyplot as plt\n",
    "import seaborn as sns\n",
    "\n",
    "%matplotlib inline"
   ]
  },
  {
   "cell_type": "code",
   "execution_count": 138,
   "metadata": {
    "collapsed": true
   },
   "outputs": [],
   "source": [
    "df = pd.read_csv('./clean_data/precip_ridership_by_day_hour.csv')"
   ]
  },
  {
   "cell_type": "code",
   "execution_count": 139,
   "metadata": {},
   "outputs": [
    {
     "data": {
      "text/plain": [
       "Index([u'DAYOFYEAR', u'HOUROFDAY', u'ENTRIES', u'EXITS', u'HOURLYPrecip'], dtype='object')"
      ]
     },
     "execution_count": 139,
     "metadata": {},
     "output_type": "execute_result"
    }
   ],
   "source": [
    "df.columns"
   ]
  },
  {
   "cell_type": "code",
   "execution_count": 75,
   "metadata": {
    "collapsed": true
   },
   "outputs": [],
   "source": [
    "df.loc[df['HOURLYPrecip'] == 0, 'PRECIP_LEVEL'] = 0\n",
    "df.loc[(df['HOURLYPrecip'] > 0) & (df['HOURLYPrecip'] <= 0.15), 'PRECIP_LEVEL'] = 1\n",
    "df.loc[df['HOURLYPrecip'] > 0.15, 'PRECIP_LEVEL'] = 2"
   ]
  },
  {
   "cell_type": "code",
   "execution_count": 76,
   "metadata": {
    "scrolled": true
   },
   "outputs": [
    {
     "data": {
      "text/plain": [
       "<matplotlib.axes._subplots.AxesSubplot at 0x102fd5b10>"
      ]
     },
     "execution_count": 76,
     "metadata": {},
     "output_type": "execute_result"
    },
    {
     "data": {
      "image/png": "[encoded data removed]",
      "text/plain": [
       "<matplotlib.figure.Figure at 0x11317f850>"
      ]
     },
     "metadata": {},
     "output_type": "display_data"
    }
   ],
   "source": [
    "df[['PRECIP_LEVEL','ENTRIES','EXITS']].groupby('PRECIP_LEVEL').mean().plot(kind='bar', figsize=(14,5))"
   ]
  },
  {
   "cell_type": "code",
   "execution_count": 85,
   "metadata": {
    "collapsed": true
   },
   "outputs": [],
   "source": [
    "df.loc[df['HOURLYPrecip'] <= 0.1, 'PRECIP_B'] = False\n",
    "df.loc[df['HOURLYPrecip'] > 0.1, 'PRECIP_B'] = True"
   ]
  },
  {
   "cell_type": "markdown",
   "metadata": {},
   "source": [
    "#### The graph below shows a decrease in ridership where precipitation occurs at > 0.1 inches an hour:"
   ]
  },
  {
   "cell_type": "code",
   "execution_count": 86,
   "metadata": {
    "scrolled": false
   },
   "outputs": [
    {
     "data": {
      "text/plain": [
       "<matplotlib.axes._subplots.AxesSubplot at 0x1152ca3d0>"
      ]
     },
     "execution_count": 86,
     "metadata": {},
     "output_type": "execute_result"
    },
    {
     "data": {
      "image/png": "[encoded data removed]",
      "text/plain": [
       "<matplotlib.figure.Figure at 0x1125b9d90>"
      ]
     },
     "metadata": {},
     "output_type": "display_data"
    }
   ],
   "source": [
    "df[['PRECIP_B','ENTRIES','EXITS']].groupby('PRECIP_B').mean().plot(kind='bar', figsize=(14,5))"
   ]
  },
  {
   "cell_type": "code",
   "execution_count": 87,
   "metadata": {
    "collapsed": true
   },
   "outputs": [],
   "source": [
    "df_bool = df[['ENTRIES','EXITS','PRECIP_B']]"
   ]
  },
  {
   "cell_type": "markdown",
   "metadata": {},
   "source": [
    "As expected, there is higher variance in ridership when there is no precipitation. When there is precipitation, you have lower variance in ridership."
   ]
  },
  {
   "cell_type": "code",
   "execution_count": 133,
   "metadata": {},
   "outputs": [
    {
     "data": {
      "text/plain": [
       "<matplotlib.axes._subplots.AxesSubplot at 0x115682610>"
      ]
     },
     "execution_count": 133,
     "metadata": {},
     "output_type": "execute_result"
    },
    {
     "data": {
      "image/png": "[encoded data removed]",
      "text/plain": [
       "<matplotlib.figure.Figure at 0x115682310>"
      ]
     },
     "metadata": {},
     "output_type": "display_data"
    }
   ],
   "source": [
    "sns.set_style('ticks')\n",
    "plt.figure(figsize=(10,7))\n",
    "sns.boxplot(data=df_bool,\n",
    "           x='PRECIP_B',\n",
    "           y='ENTRIES')"
   ]
  },
  {
   "cell_type": "code",
   "execution_count": 116,
   "metadata": {
    "collapsed": true
   },
   "outputs": [],
   "source": [
    "df['DATETIME'] = df['DAYOFYEAR'] + df['HOUROFDAY'].apply(lambda x: (x/24.0))"
   ]
  },
  {
   "cell_type": "code",
   "execution_count": 134,
   "metadata": {
    "collapsed": true
   },
   "outputs": [],
   "source": [
    "df_final = df[['DATETIME', 'ENTRIES', 'EXITS', 'HOURLYPrecip']]\n",
    "df_final = df_final.set_index('DATETIME')"
   ]
  },
  {
   "cell_type": "markdown",
   "metadata": {},
   "source": [
    "#### When it does rain, how much is enough to deter ridership?"
   ]
  },
  {
   "cell_type": "code",
   "execution_count": 154,
   "metadata": {
    "collapsed": true
   },
   "outputs": [],
   "source": [
    "precip = df_final.loc[df_final['HOURLYPrecip'] > 0]"
   ]
  },
  {
   "cell_type": "code",
   "execution_count": 155,
   "metadata": {},
   "outputs": [
    {
     "data": {
      "text/plain": [
       "<matplotlib.axes._subplots.AxesSubplot at 0x11a94da10>"
      ]
     },
     "execution_count": 155,
     "metadata": {},
     "output_type": "execute_result"
    },
    {
     "data": {
      "image/png": "[encoded data removed]",
      "text/plain": [
       "<matplotlib.figure.Figure at 0x11aa22990>"
      ]
     },
     "metadata": {},
     "output_type": "display_data"
    }
   ],
   "source": [
    "sns.regplot(x='HOURLYPrecip',\n",
    "            y='ENTRIES',\n",
    "            data=precip)"
   ]
  },
  {
   "cell_type": "code",
   "execution_count": 159,
   "metadata": {
    "collapsed": true
   },
   "outputs": [],
   "source": [
    "precip_2 = df_final.loc[df_final['HOURLYPrecip'] > 0.05]"
   ]
  },
  {
   "cell_type": "code",
   "execution_count": 163,
   "metadata": {},
   "outputs": [
    {
     "data": {
      "text/plain": [
       "59"
      ]
     },
     "execution_count": 163,
     "metadata": {},
     "output_type": "execute_result"
    }
   ],
   "source": [
    "len(precip_2)"
   ]
  },
  {
   "cell_type": "code",
   "execution_count": 165,
   "metadata": {},
   "outputs": [
    {
     "data": {
      "text/plain": [
       "0.02388663967611336"
      ]
     },
     "execution_count": 165,
     "metadata": {},
     "output_type": "execute_result"
    }
   ],
   "source": [
    "59.0/len(df)"
   ]
  },
  {
   "cell_type": "markdown",
   "metadata": {},
   "source": [
    "With only 59 observations (2.4% of the data) showing precipitation amounts of greater than `0.05`, more data needs to be explored to find a statisitically significant relationship between precipitation and ridership."
   ]
  }
 ],
 "metadata": {
  "kernelspec": {
   "display_name": "Python 2",
   "language": "python",
   "name": "python2"
  },
  "language_info": {
   "codemirror_mode": {
    "name": "ipython",
    "version": 2
   },
   "file_extension": ".py",
   "mimetype": "text/x-python",
   "name": "python",
   "nbconvert_exporter": "python",
   "pygments_lexer": "ipython2",
   "version": "2.7.13"
  }
 },
 "nbformat": 4,
 "nbformat_minor": 2
}
